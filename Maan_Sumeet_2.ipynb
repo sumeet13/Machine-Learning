{
 "cells": [
  {
   "cell_type": "markdown",
   "metadata": {},
   "source": [
    "# Problem 1: Distances and Norms\n",
    "    "
   ]
  },
  {
   "cell_type": "code",
   "execution_count": 1,
   "metadata": {},
   "outputs": [
    {
     "name": "stdout",
     "output_type": "stream",
     "text": [
      "Solution 1\n",
      "0.996403790047\n"
     ]
    }
   ],
   "source": [
    "print('Solution 1')\n",
    "import numpy as np\n",
    "\n",
    "\n",
    "arr1=np.array([1,2,3,4])\n",
    "arr2=np.array([2,3,4,6])\n",
    "  \n",
    "    \n",
    "def cos_sim(a,b):\n",
    "    dot_product=np.dot(a,b)\n",
    "    norm_a = np.linalg.norm(a)\n",
    "    norm_b = np.linalg.norm(b)\n",
    "    return dot_product/(norm_a*norm_b)\n",
    "print(cos_sim(arr1,arr2))"
   ]
  },
  {
   "cell_type": "markdown",
   "metadata": {},
   "source": [
    "### Solution 2\n",
    "\n",
    "A. Cosine similarity between two vectors measures the degree of similarity between them. Geometrically, it tells us degree of similarity using direction. By definition a vector is defined as having magnitude and direction.\n",
    "\n",
    "B. Cosine similarity 0 means that both the vectors are aligned/colinear to each other. We know cos 0=1\n",
    "\n",
    "C. Cosine similarity 1 means that both the vectors are orthogonal/perpendicular(90 degree) to each other. If two vectors are diametrically opposed then they have cosine similarity of -1. Angle between them is 180 degrees."
   ]
  },
  {
   "cell_type": "code",
   "execution_count": 2,
   "metadata": {},
   "outputs": [
    {
     "name": "stdout",
     "output_type": "stream",
     "text": [
      "Solution 3\n",
      "[ 9 -1]\n"
     ]
    }
   ],
   "source": [
    "\n",
    "print ('Solution 3')\n",
    "\n",
    "x1=np.array([1,2])\n",
    "x2=np.array([2,4])\n",
    "x3=np.array([2,-1])\n",
    "\n",
    "x4 = np.random.randint(low=-10, high=10, size=(2,))\n",
    "\n",
    "print(x4)\n"
   ]
  },
  {
   "cell_type": "code",
   "execution_count": 3,
   "metadata": {},
   "outputs": [
    {
     "name": "stdout",
     "output_type": "stream",
     "text": [
      "Solution 4\n",
      "The cosine similarity of [1 2]  and  [2 4]  is  1.0\n",
      "The cosine similarity of [1 2]  and  [ 2 -1]  is  0.0\n",
      "The cosine similarity of [1 2]  and  [ 9 -1]  is  0.345705358827\n"
     ]
    }
   ],
   "source": [
    "print('Solution 4')\n",
    "\n",
    "print('The cosine similarity of',x1,' and ',x2,' is ',cos_sim(x1,x2))\n",
    "print('The cosine similarity of',x1,' and ',x3,' is ',cos_sim(x1,x3))\n",
    "print('The cosine similarity of',x1,' and ',x4,' is ',cos_sim(x1,x4))"
   ]
  },
  {
   "cell_type": "code",
   "execution_count": 4,
   "metadata": {},
   "outputs": [
    {
     "name": "stdout",
     "output_type": "stream",
     "text": [
      "Solution 5\n"
     ]
    },
    {
     "data": {
      "image/png": "[encoded data removed]",
      "text/plain": [
       "<matplotlib.figure.Figure at 0x7f4f641a3dd8>"
      ]
     },
     "metadata": {},
     "output_type": "display_data"
    }
   ],
   "source": [
    "print('Solution 5')\n",
    "\n",
    "import matplotlib.pyplot as plt\n",
    "\n",
    "\n",
    "V=np.stack((x1,x2,x3,x4))\n",
    "origin = [0], [0] # origin point\n",
    "\n",
    "plt.quiver(*origin, V[:,0], V[:,1], color=['r','b','g','k'], scale=21)\n",
    "plt.show()\n"
   ]
  },
  {
   "cell_type": "code",
   "execution_count": 5,
   "metadata": {},
   "outputs": [
    {
     "name": "stdout",
     "output_type": "stream",
     "text": [
      "Solution 6\n",
      "L1 norm of x4 is  10.0\n",
      "L2 norm x4 is  9.05538513814\n",
      "L4 norm x4 is  9.00034291593\n",
      "L10 norm x4 is  9.00000000026\n"
     ]
    }
   ],
   "source": [
    "print('Solution 6')\n",
    "print('L1 norm of x4 is ',np.linalg.norm(x4,ord=1))\n",
    "print('L2 norm x4 is ',np.linalg.norm(x4,ord=2))\n",
    "print('L4 norm x4 is ',np.linalg.norm(x4,ord=4))\n",
    "print('L10 norm x4 is ',np.linalg.norm(x4,ord=10))"
   ]
  },
  {
   "cell_type": "code",
   "execution_count": 6,
   "metadata": {},
   "outputs": [
    {
     "name": "stdout",
     "output_type": "stream",
     "text": [
      "Solution 7\n",
      "L1 distance between x1 and x4 is  11.0\n",
      "L2 distance between x1 and x4 is 8.54400374532\n",
      "L4 distance between x1 and x4 is 8.03926081977\n",
      "L10 distance between x1 and x4 is 8.00004399384\n"
     ]
    }
   ],
   "source": [
    "print('Solution 7')\n",
    "print(\"L1 distance between x1 and x4 is \",np.linalg.norm(x1-x4,ord=1))\n",
    "print(\"L2 distance between x1 and x4 is\",np.linalg.norm(x1-x4,ord=2))\n",
    "print(\"L4 distance between x1 and x4 is\",np.linalg.norm(x1-x4,ord=4))\n",
    "print(\"L10 distance between x1 and x4 is\",np.linalg.norm(x1-x4,ord=10))"
   ]
  },
  {
   "cell_type": "markdown",
   "metadata": {},
   "source": [
    "# Problem 2: Rank, Matrix Inverses, and Solving Linear Systems"
   ]
  },
  {
   "cell_type": "code",
   "execution_count": 7,
   "metadata": {},
   "outputs": [
    {
     "name": "stdout",
     "output_type": "stream",
     "text": [
      "Solution 1\n",
      "Mat:  [[-8.98284725 -0.46598279 -3.76715685]\n",
      " [ 8.03269592 -0.09947017 -0.03530441]\n",
      " [ 8.23689424  9.13449309 -3.09868078]]\n",
      "Rank of the matrix is  3\n"
     ]
    }
   ],
   "source": [
    "np.random.seed(402)\n",
    "print('Solution 1')\n",
    "Mat= 20*(np.random.rand(3,3)-np.full((3,3),.5))\n",
    "\n",
    "\n",
    "#(low=-10, high=10, size=(3,3))\n",
    "print('Mat: ',Mat)\n",
    "print('Rank of the matrix is ',np.linalg.matrix_rank(Mat))"
   ]
  },
  {
   "cell_type": "markdown",
   "metadata": {},
   "source": [
    "### Solution 2\n",
    "If the rank of an nXn matrix is less than n, then its inverse does not exist. If the determinant of a matrix is 0, then its inverse does not exist.\n"
   ]
  },
  {
   "cell_type": "code",
   "execution_count": 8,
   "metadata": {},
   "outputs": [
    {
     "name": "stdout",
     "output_type": "stream",
     "text": [
      "Solution 3\n",
      "[[-0.00212627  0.12087492  0.0012078 ]\n",
      " [-0.08293177 -0.1984454   0.10308353]\n",
      " [-0.25012371 -0.2636813  -0.01563106]]\n"
     ]
    }
   ],
   "source": [
    "print('Solution 3')\n",
    "try:\n",
    "    inv=np.linalg.inv(Mat)\n",
    "except numpy.linalg.LinAlgError:\n",
    "    pass\n",
    "else:\n",
    "    print(inv)"
   ]
  },
  {
   "cell_type": "code",
   "execution_count": 9,
   "metadata": {},
   "outputs": [
    {
     "name": "stdout",
     "output_type": "stream",
     "text": [
      "Solution 4\n",
      "[1 2 3]\n",
      " x is  [ 0.24324697 -0.17057196 -0.82437947]\n",
      "Solution b. printing Mat*x\n",
      "[ 1.  2.  3.]\n"
     ]
    }
   ],
   "source": [
    "print('Solution 4')\n",
    "b=np.array([1,2,3]).T\n",
    "print(b)\n",
    "x=np.matmul(inv,b)\n",
    "print(' x is ',x)\n",
    "\n",
    "\n",
    "print('Solution b. printing Mat*x')\n",
    "r=np.matmul(Mat,x)\n",
    "print(r)"
   ]
  },
  {
   "cell_type": "code",
   "execution_count": 10,
   "metadata": {},
   "outputs": [
    {
     "name": "stdout",
     "output_type": "stream",
     "text": [
      "Solution 5\n",
      "[ 0.24324697 -0.17057196 -0.82437947]\n"
     ]
    }
   ],
   "source": [
    "print('Solution 5')\n",
    "new_x=np.linalg.solve(Mat,b)\n",
    "print(new_x)"
   ]
  },
  {
   "cell_type": "code",
   "execution_count": 11,
   "metadata": {},
   "outputs": [
    {
     "name": "stdout",
     "output_type": "stream",
     "text": [
      "Solution 6\n",
      "\n",
      " newMat rank is 2\n",
      "\n",
      " newMat inverse is  [[ -1.35107989e+16  -6.75539944e+15   6.75539944e+15]\n",
      " [ -1.57625987e+16  -7.88129935e+15   7.88129935e+15]\n",
      " [ -2.25179981e+15  -1.12589991e+15   1.12589991e+15]]\n",
      "\n",
      " newMat*newMatInverse  [[ 0.  0.  1.]\n",
      " [ 0.  0. -2.]\n",
      " [ 0.  0.  0.]]\n",
      "\n",
      "Solving for x for newMat:  [ -6.75539944e+15  -7.88129935e+15  -1.12589991e+15]\n"
     ]
    }
   ],
   "source": [
    "print('Solution 6')\n",
    "newMat=[[1,-1,1],[-3,2,4],[-1,0,6]]\n",
    "print('\\n newMat rank is',np.linalg.matrix_rank(newMat))\n",
    "inv1=np.linalg.inv(newMat)\n",
    "print('\\n newMat inverse is ',inv1)\n",
    "print('\\n newMat*newMatInverse ',np.matmul(newMat,inv1))\n",
    "\n",
    "x1=np.matmul(inv1,b)\n",
    "print('\\nSolving for x for newMat: ',x1)\n"
   ]
  },
  {
   "cell_type": "markdown",
   "metadata": {},
   "source": [
    "Solution e. Since the rank of the matrix is 2. It should not  have the inverse but programmatically we are getting one. So we should not blindly believe on the computers for everything."
   ]
  },
  {
   "cell_type": "code",
   "execution_count": 12,
   "metadata": {},
   "outputs": [
    {
     "name": "stdout",
     "output_type": "stream",
     "text": [
      "Solution 7a\n",
      "(array([ 0.03100775, -0.10271318,  0.53294574]), array([], dtype=float64), 2, array([ 7.77600954,  2.92124557, -0.        ]))\n",
      "7b. newMat*solution(approximation of b)  is [ 0.66666667  1.83333333  3.16666667]\n",
      "7c. Euclidean distance between b and b^ is 0.666666666667\n"
     ]
    }
   ],
   "source": [
    "print('Solution 7a')\n",
    "sol=np.linalg.lstsq(newMat,b)\n",
    "print(sol)\n",
    "\n",
    "app=np.matmul(newMat,sol[0])\n",
    "print('7b. newMat*solution(approximation of b)  is',app)\n",
    "\n",
    "print('7c. Euclidean distance between b and b^ is',np.linalg.norm(b-app,ord=1) )\n"
   ]
  },
  {
   "cell_type": "markdown",
   "metadata": {},
   "source": [
    "# __**Problem 3: Determinants, Eigenvalues, and Positive Definite Matrices**__ "
   ]
  },
  {
   "cell_type": "code",
   "execution_count": 13,
   "metadata": {},
   "outputs": [
    {
     "name": "stdout",
     "output_type": "stream",
     "text": [
      "Solution 1\n",
      "[[  5.33799785  11.97540026   8.02491684]\n",
      " [  5.21633489   8.37893737   8.15336839]\n",
      " [  2.05418684   7.30982403   4.45857477]]\n"
     ]
    }
   ],
   "source": [
    "print('Solution 1')\n",
    "np.random.seed(88)\n",
    "Mat2 = np.random.normal(5, np.sqrt(10),size=(3,3))\n",
    "print(Mat2)"
   ]
  },
  {
   "cell_type": "code",
   "execution_count": 14,
   "metadata": {},
   "outputs": [
    {
     "name": "stdout",
     "output_type": "stream",
     "text": [
      "Solution 2\n",
      "-28.801935084\n"
     ]
    }
   ],
   "source": [
    "print('Solution 2')\n",
    "det=np.linalg.det(Mat2)\n",
    "print(det)"
   ]
  },
  {
   "cell_type": "markdown",
   "metadata": {},
   "source": [
    "### Solution 3.\n",
    "Geometrically, determinant can be viewed as the volume scaling factor of the linear transformation described by the matrix.\n",
    "\n",
    "positive determinant means that linear mapping of a matrix preserves the orientation of n-space\n",
    "\n",
    "Negative determinant means that linear mapping of a matrix reverses the orientation of n-space\n",
    "\n",
    "0 determinant means that the matrix cannot be inversed."
   ]
  },
  {
   "cell_type": "code",
   "execution_count": 15,
   "metadata": {},
   "outputs": [
    {
     "name": "stdout",
     "output_type": "stream",
     "text": [
      "Solution 4\n",
      "Eigenvalues and Eigenvectors are(First array is the EigenValues and second one is the EigenVectors)  (array([ 19.75530817,   0.65297116,  -2.23276935]), array([[-0.70696977, -0.8022028 ,  0.42320826],\n",
      "       [-0.59649451, -0.08242487, -0.67359825],\n",
      "       [-0.37998426,  0.59133477,  0.60593743]]))\n"
     ]
    }
   ],
   "source": [
    "print('Solution 4')\n",
    "evectors=np.linalg.eig(Mat2)\n",
    "print('Eigenvalues and Eigenvectors are(First array is the EigenValues and second one is the EigenVectors) ', evectors)"
   ]
  },
  {
   "cell_type": "markdown",
   "metadata": {},
   "source": [
    "#### Solution 5:\n",
    "Geometrically, an eigenvector, corresponding to a real nonzero eigenvalue, points in a direction that is stretched by the transformation and the eigenvalue is the factor by which it is stretched. If the eigenvalue is negative, the direction is reversed."
   ]
  },
  {
   "cell_type": "markdown",
   "metadata": {},
   "source": [
    "#### References:\n",
    "Took help from internet(Wikipedia and youtube)"
   ]
  }
 ],
 "metadata": {
  "kernelspec": {
   "display_name": "Python 3",
   "language": "python",
   "name": "python3"
  },
  "language_info": {
   "codemirror_mode": {
    "name": "ipython",
    "version": 3
   },
   "file_extension": ".py",
   "mimetype": "text/x-python",
   "name": "python",
   "nbconvert_exporter": "python",
   "pygments_lexer": "ipython3",
   "version": "3.6.7"
  }
 },
 "nbformat": 4,
 "nbformat_minor": 2
}
